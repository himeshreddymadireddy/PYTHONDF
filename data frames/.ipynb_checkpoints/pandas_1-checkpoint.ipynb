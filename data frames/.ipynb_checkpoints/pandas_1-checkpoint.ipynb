{
 "cells": [
  {
   "cell_type": "markdown",
   "id": "f5844576",
   "metadata": {},
   "source": [
    "# pandas = series and data frames \n",
    "# two objects"
   ]
  },
  {
   "cell_type": "code",
   "execution_count": 1,
   "id": "aaef764b",
   "metadata": {},
   "outputs": [],
   "source": [
    "import numpy as np\n",
    "import pandas as pd"
   ]
  },
  {
   "cell_type": "code",
   "execution_count": 2,
   "id": "8e43bdbc",
   "metadata": {},
   "outputs": [],
   "source": [
    "names=[\"himesh\",\"vardhan\",\"teja\",\"shiva\"]"
   ]
  },
  {
   "cell_type": "code",
   "execution_count": 3,
   "id": "77b915a7",
   "metadata": {},
   "outputs": [
    {
     "data": {
      "text/plain": [
       "0     himesh\n",
       "1    vardhan\n",
       "2       teja\n",
       "3      shiva\n",
       "dtype: object"
      ]
     },
     "execution_count": 3,
     "metadata": {},
     "output_type": "execute_result"
    }
   ],
   "source": [
    "pd.Series(names)\n",
    "#gives index and value"
   ]
  },
  {
   "cell_type": "code",
   "execution_count": 4,
   "id": "8dc118e8",
   "metadata": {},
   "outputs": [],
   "source": [
    "runs=[56,57,100,120,23,12]\n",
    "runs_series=pd.Series(runs)"
   ]
  },
  {
   "cell_type": "code",
   "execution_count": 5,
   "id": "4f94076b",
   "metadata": {},
   "outputs": [
    {
     "data": {
      "text/plain": [
       "0     56\n",
       "1     57\n",
       "2    100\n",
       "3    120\n",
       "4     23\n",
       "5     12\n",
       "dtype: int64"
      ]
     },
     "execution_count": 5,
     "metadata": {},
     "output_type": "execute_result"
    }
   ],
   "source": [
    "pd.Series(runs)"
   ]
  },
  {
   "cell_type": "code",
   "execution_count": 6,
   "id": "dce374c6",
   "metadata": {},
   "outputs": [],
   "source": [
    "#coustm index\n",
    "marks=[67,89,90,70,100]\n",
    "subjects=[\"hindi\",\"english\",\"maths\",\"social\",\"sanskrit\"]"
   ]
  },
  {
   "cell_type": "code",
   "execution_count": 7,
   "id": "f62dc08f",
   "metadata": {},
   "outputs": [
    {
     "data": {
      "text/plain": [
       "hindi        67\n",
       "english      89\n",
       "maths        90\n",
       "social       70\n",
       "sanskrit    100\n",
       "dtype: int64"
      ]
     },
     "execution_count": 7,
     "metadata": {},
     "output_type": "execute_result"
    }
   ],
   "source": [
    "pd.Series(marks,index=subjects)"
   ]
  },
  {
   "cell_type": "code",
   "execution_count": 8,
   "id": "c955047a",
   "metadata": {},
   "outputs": [
    {
     "data": {
      "text/plain": [
       "hindi        67\n",
       "english      89\n",
       "maths        90\n",
       "social       70\n",
       "sanskrit    100\n",
       "Name: himesh marks, dtype: int64"
      ]
     },
     "execution_count": 8,
     "metadata": {},
     "output_type": "execute_result"
    }
   ],
   "source": [
    "#setting a name for series\n",
    "pd.Series(marks,index=subjects,name=\"himesh marks\")"
   ]
  },
  {
   "cell_type": "code",
   "execution_count": 9,
   "id": "e35f4b81",
   "metadata": {},
   "outputs": [],
   "source": [
    "marks=pd.Series(marks,index=subjects,name=\"himesh marks\")"
   ]
  },
  {
   "cell_type": "code",
   "execution_count": 10,
   "id": "ba120fd6",
   "metadata": {},
   "outputs": [
    {
     "data": {
      "text/plain": [
       "hindi        67\n",
       "english      89\n",
       "maths        90\n",
       "social       70\n",
       "sanskrit    100\n",
       "Name: himesh marks, dtype: int64"
      ]
     },
     "execution_count": 10,
     "metadata": {},
     "output_type": "execute_result"
    }
   ],
   "source": [
    "marks"
   ]
  },
  {
   "cell_type": "code",
   "execution_count": 11,
   "id": "1280ba7c",
   "metadata": {},
   "outputs": [],
   "source": [
    "marks={\n",
    "    \"maths\":89,\n",
    "    \"english\":90,\n",
    "    \"chemistry\":50,\n",
    "    \"physics\":74,\n",
    "    \"PE\":99\n",
    "}"
   ]
  },
  {
   "cell_type": "code",
   "execution_count": 12,
   "id": "aa500ad3",
   "metadata": {},
   "outputs": [
    {
     "data": {
      "text/plain": [
       "maths        89\n",
       "english      90\n",
       "chemistry    50\n",
       "physics      74\n",
       "PE           99\n",
       "Name: himesh's marks, dtype: int64"
      ]
     },
     "execution_count": 12,
     "metadata": {},
     "output_type": "execute_result"
    }
   ],
   "source": [
    "#series from dict\n",
    "marks_series=pd.Series(marks,name=\"himesh's marks\")\n",
    "marks_series\n"
   ]
  },
  {
   "cell_type": "code",
   "execution_count": 13,
   "id": "0a8e60a3",
   "metadata": {},
   "outputs": [
    {
     "data": {
      "text/plain": [
       "5"
      ]
     },
     "execution_count": 13,
     "metadata": {},
     "output_type": "execute_result"
    }
   ],
   "source": [
    "#size\n",
    "marks_series.size"
   ]
  },
  {
   "cell_type": "code",
   "execution_count": 14,
   "id": "b1986afa",
   "metadata": {},
   "outputs": [
    {
     "data": {
      "text/plain": [
       "dtype('int64')"
      ]
     },
     "execution_count": 14,
     "metadata": {},
     "output_type": "execute_result"
    }
   ],
   "source": [
    "#dtype\n",
    "marks_series.dtype"
   ]
  },
  {
   "cell_type": "code",
   "execution_count": 15,
   "id": "c81d275d",
   "metadata": {},
   "outputs": [
    {
     "data": {
      "text/plain": [
       "\"himesh's marks\""
      ]
     },
     "execution_count": 15,
     "metadata": {},
     "output_type": "execute_result"
    }
   ],
   "source": [
    "#name\n",
    "marks_series.name"
   ]
  },
  {
   "cell_type": "code",
   "execution_count": 16,
   "id": "4099d73e",
   "metadata": {},
   "outputs": [
    {
     "data": {
      "text/plain": [
       "True"
      ]
     },
     "execution_count": 16,
     "metadata": {},
     "output_type": "execute_result"
    }
   ],
   "source": [
    "marks_series.is_unique \n",
    "#tells if the values are repeating or not"
   ]
  },
  {
   "cell_type": "code",
   "execution_count": 17,
   "id": "af9b1b6f",
   "metadata": {},
   "outputs": [
    {
     "data": {
      "text/plain": [
       "False"
      ]
     },
     "execution_count": 17,
     "metadata": {},
     "output_type": "execute_result"
    }
   ],
   "source": [
    "pd.Series([1,1,2,3,4,5]).is_unique\n",
    "#returns false as it is repeating"
   ]
  },
  {
   "cell_type": "code",
   "execution_count": 18,
   "id": "ec5e5d8e",
   "metadata": {},
   "outputs": [
    {
     "data": {
      "text/plain": [
       "Index(['maths', 'english', 'chemistry', 'physics', 'PE'], dtype='object')"
      ]
     },
     "execution_count": 18,
     "metadata": {},
     "output_type": "execute_result"
    }
   ],
   "source": [
    "marks_series.index\n",
    "#tells u all index values"
   ]
  },
  {
   "cell_type": "code",
   "execution_count": 19,
   "id": "e55cca57",
   "metadata": {},
   "outputs": [
    {
     "data": {
      "text/plain": [
       "numpy.ndarray"
      ]
     },
     "execution_count": 19,
     "metadata": {},
     "output_type": "execute_result"
    }
   ],
   "source": [
    "type(marks_series.values)"
   ]
  },
  {
   "cell_type": "code",
   "execution_count": 20,
   "id": "e9f9ce90",
   "metadata": {},
   "outputs": [
    {
     "data": {
      "text/plain": [
       "array([89, 90, 50, 74, 99])"
      ]
     },
     "execution_count": 20,
     "metadata": {},
     "output_type": "execute_result"
    }
   ],
   "source": [
    "marks_series.values"
   ]
  },
  {
   "cell_type": "code",
   "execution_count": 21,
   "id": "3a67ffff",
   "metadata": {},
   "outputs": [
    {
     "data": {
      "text/plain": [
       "0       48\n",
       "1       57\n",
       "2       40\n",
       "3       43\n",
       "4       44\n",
       "      ... \n",
       "360    231\n",
       "361    226\n",
       "362    155\n",
       "363    144\n",
       "364    172\n",
       "Name: Subscribers gained, Length: 365, dtype: int64"
      ]
     },
     "execution_count": 21,
     "metadata": {},
     "output_type": "execute_result"
    }
   ],
   "source": [
    "#series using read_csv\n",
    "csv=pd.read_csv(\"subs.csv\")\n",
    "data=csv.squeeze(\"columns\")\n",
    "data"
   ]
  },
  {
   "cell_type": "code",
   "execution_count": 22,
   "id": "691fa34a",
   "metadata": {},
   "outputs": [],
   "source": [
    "subs=pd.read_csv(\"subs.csv\")\n",
    "subs=subs.squeeze(True)"
   ]
  },
  {
   "cell_type": "code",
   "execution_count": 23,
   "id": "1c489cd9",
   "metadata": {},
   "outputs": [
    {
     "data": {
      "text/plain": [
       "0       48\n",
       "1       57\n",
       "2       40\n",
       "3       43\n",
       "4       44\n",
       "      ... \n",
       "360    231\n",
       "361    226\n",
       "362    155\n",
       "363    144\n",
       "364    172\n",
       "Name: Subscribers gained, Length: 365, dtype: int64"
      ]
     },
     "execution_count": 23,
     "metadata": {},
     "output_type": "execute_result"
    }
   ],
   "source": [
    "subs"
   ]
  },
  {
   "cell_type": "code",
   "execution_count": 24,
   "id": "f3d3f4c3",
   "metadata": {},
   "outputs": [
    {
     "data": {
      "text/plain": [
       "pandas.core.series.Series"
      ]
     },
     "execution_count": 24,
     "metadata": {},
     "output_type": "execute_result"
    }
   ],
   "source": [
    "type(subs)"
   ]
  },
  {
   "cell_type": "code",
   "execution_count": 25,
   "id": "9830b4df",
   "metadata": {},
   "outputs": [],
   "source": [
    "weight=pd.read_csv(\"Book1.csv\")\n",
    "weight=weight.squeeze(True)"
   ]
  },
  {
   "cell_type": "code",
   "execution_count": 26,
   "id": "2a3e70c7",
   "metadata": {},
   "outputs": [
    {
     "data": {
      "text/plain": [
       "pandas.core.series.Series"
      ]
     },
     "execution_count": 26,
     "metadata": {},
     "output_type": "execute_result"
    }
   ],
   "source": [
    "type(weight)"
   ]
  },
  {
   "cell_type": "code",
   "execution_count": 27,
   "id": "74d9b75d",
   "metadata": {},
   "outputs": [
    {
     "data": {
      "text/plain": [
       "match_no\n",
       "1       1\n",
       "2      23\n",
       "3      13\n",
       "4      12\n",
       "5       1\n",
       "       ..\n",
       "211     0\n",
       "212    20\n",
       "213    73\n",
       "214    25\n",
       "215     7\n",
       "Name: runs, Length: 215, dtype: int64"
      ]
     },
     "execution_count": 27,
     "metadata": {},
     "output_type": "execute_result"
    }
   ],
   "source": [
    "kholi=pd.read_csv(\"kohli_ipl.csv\",index_col=\"match_no\")\n",
    "kholi=kholi.squeeze(True)\n",
    "kholi"
   ]
  },
  {
   "cell_type": "code",
   "execution_count": 28,
   "id": "2404f604",
   "metadata": {},
   "outputs": [],
   "source": [
    "bwood=pd.read_csv(\"bollywood.csv\",index_col=\"movie\")\n",
    "bwood=bwood.squeeze(True)"
   ]
  },
  {
   "cell_type": "code",
   "execution_count": 29,
   "id": "25eb1b07",
   "metadata": {},
   "outputs": [
    {
     "data": {
      "text/plain": [
       "movie\n",
       "Uri: The Surgical Strike                   Vicky Kaushal\n",
       "Battalion 609                                Vicky Ahuja\n",
       "The Accidental Prime Minister (film)         Anupam Kher\n",
       "Why Cheat India                            Emraan Hashmi\n",
       "Evening Shadows                         Mona Ambegaonkar\n",
       "                                              ...       \n",
       "Hum Tumhare Hain Sanam                    Shah Rukh Khan\n",
       "Aankhen (2002 film)                     Amitabh Bachchan\n",
       "Saathiya (film)                             Vivek Oberoi\n",
       "Company (film)                                Ajay Devgn\n",
       "Awara Paagal Deewana                        Akshay Kumar\n",
       "Name: lead, Length: 1500, dtype: object"
      ]
     },
     "execution_count": 29,
     "metadata": {},
     "output_type": "execute_result"
    }
   ],
   "source": [
    "bwood"
   ]
  },
  {
   "cell_type": "markdown",
   "id": "93684ff2",
   "metadata": {},
   "source": [
    "# series methods"
   ]
  },
  {
   "cell_type": "code",
   "execution_count": 30,
   "id": "be8c16ca",
   "metadata": {},
   "outputs": [
    {
     "data": {
      "text/plain": [
       "0    48\n",
       "1    57\n",
       "2    40\n",
       "3    43\n",
       "4    44\n",
       "Name: Subscribers gained, dtype: int64"
      ]
     },
     "execution_count": 30,
     "metadata": {},
     "output_type": "execute_result"
    }
   ],
   "source": [
    "#head and tail\n",
    "subs.head()"
   ]
  },
  {
   "cell_type": "code",
   "execution_count": 31,
   "id": "8c05c03d",
   "metadata": {},
   "outputs": [
    {
     "data": {
      "text/plain": [
       "0    48\n",
       "1    57\n",
       "2    40\n",
       "3    43\n",
       "4    44\n",
       "5    46\n",
       "6    33\n",
       "7    40\n",
       "8    44\n",
       "9    74\n",
       "Name: Subscribers gained, dtype: int64"
      ]
     },
     "execution_count": 31,
     "metadata": {},
     "output_type": "execute_result"
    }
   ],
   "source": [
    "subs.head(10)"
   ]
  },
  {
   "cell_type": "code",
   "execution_count": 32,
   "id": "02d441fa",
   "metadata": {},
   "outputs": [
    {
     "data": {
      "text/plain": [
       "match_no\n",
       "211     0\n",
       "212    20\n",
       "213    73\n",
       "214    25\n",
       "215     7\n",
       "Name: runs, dtype: int64"
      ]
     },
     "execution_count": 32,
     "metadata": {},
     "output_type": "execute_result"
    }
   ],
   "source": [
    "kholi.tail()"
   ]
  },
  {
   "cell_type": "code",
   "execution_count": 33,
   "id": "12d98a54",
   "metadata": {},
   "outputs": [
    {
     "data": {
      "text/plain": [
       "match_no\n",
       "206     0\n",
       "207     0\n",
       "208     9\n",
       "209    58\n",
       "210    30\n",
       "211     0\n",
       "212    20\n",
       "213    73\n",
       "214    25\n",
       "215     7\n",
       "Name: runs, dtype: int64"
      ]
     },
     "execution_count": 33,
     "metadata": {},
     "output_type": "execute_result"
    }
   ],
   "source": [
    "kholi.tail(10)"
   ]
  },
  {
   "cell_type": "code",
   "execution_count": 34,
   "id": "5ac9d8c7",
   "metadata": {},
   "outputs": [
    {
     "data": {
      "text/plain": [
       "movie\n",
       "Ishq Vishk    Shahid Kapoor\n",
       "Name: lead, dtype: object"
      ]
     },
     "execution_count": 34,
     "metadata": {},
     "output_type": "execute_result"
    }
   ],
   "source": [
    "bwood.sample()"
   ]
  },
  {
   "cell_type": "code",
   "execution_count": 35,
   "id": "ed062a7e",
   "metadata": {},
   "outputs": [
    {
     "data": {
      "text/plain": [
       "movie\n",
       "Uri: The Surgical Strike                   Vicky Kaushal\n",
       "Battalion 609                                Vicky Ahuja\n",
       "The Accidental Prime Minister (film)         Anupam Kher\n",
       "Why Cheat India                            Emraan Hashmi\n",
       "Evening Shadows                         Mona Ambegaonkar\n",
       "                                              ...       \n",
       "Hum Tumhare Hain Sanam                    Shah Rukh Khan\n",
       "Aankhen (2002 film)                     Amitabh Bachchan\n",
       "Saathiya (film)                             Vivek Oberoi\n",
       "Company (film)                                Ajay Devgn\n",
       "Awara Paagal Deewana                        Akshay Kumar\n",
       "Name: lead, Length: 1500, dtype: object"
      ]
     },
     "execution_count": 35,
     "metadata": {},
     "output_type": "execute_result"
    }
   ],
   "source": [
    "#value counts \n",
    "#tells frequency\n",
    "bwood"
   ]
  },
  {
   "cell_type": "code",
   "execution_count": 38,
   "id": "fa844c7d",
   "metadata": {},
   "outputs": [
    {
     "data": {
      "text/plain": [
       "Akshay Kumar        48\n",
       "Amitabh Bachchan    45\n",
       "Ajay Devgn          38\n",
       "Salman Khan         31\n",
       "Sanjay Dutt         26\n",
       "Shah Rukh Khan      22\n",
       "Emraan Hashmi       21\n",
       "John Abraham        18\n",
       "Saif Ali Khan       18\n",
       "Shahid Kapoor       17\n",
       "Sunny Deol          17\n",
       "Jimmy Sheirgill     16\n",
       "Tusshar Kapoor      16\n",
       "Irrfan Khan         14\n",
       "Arjun Rampal        14\n",
       "Manoj Bajpayee      14\n",
       "Anupam Kher         13\n",
       "Naseeruddin Shah    12\n",
       "Kangana Ranaut      12\n",
       "Hrithik Roshan      12\n",
       "Name: lead, dtype: int64"
      ]
     },
     "execution_count": 38,
     "metadata": {},
     "output_type": "execute_result"
    }
   ],
   "source": [
    "bwood.value_counts().head(20)"
   ]
  },
  {
   "cell_type": "code",
   "execution_count": 40,
   "id": "fe109cd7",
   "metadata": {},
   "outputs": [],
   "source": [
    "import matplotlib.pyplot as plt"
   ]
  },
  {
   "cell_type": "code",
   "execution_count": 44,
   "id": "020116d9",
   "metadata": {},
   "outputs": [
    {
     "data": {
      "text/plain": [
       "<Axes: >"
      ]
     },
     "execution_count": 44,
     "metadata": {},
     "output_type": "execute_result"
    },
    {
     "data": {
      "image/png": "[encoded data removed]",
      "text/plain": [
       "<Figure size 640x480 with 1 Axes>"
      ]
     },
     "metadata": {},
     "output_type": "display_data"
    }
   ],
   "source": [
    "bwood.value_counts().head(20).plot(kind=\"bar\")"
   ]
  },
  {
   "cell_type": "code",
   "execution_count": 45,
   "id": "b353636c",
   "metadata": {},
   "outputs": [
    {
     "data": {
      "text/plain": [
       "<Axes: >"
      ]
     },
     "execution_count": 45,
     "metadata": {},
     "output_type": "execute_result"
    },
    {
     "data": {
      "image/png": "[encoded data removed]",
      "text/plain": [
       "<Figure size 640x480 with 1 Axes>"
      ]
     },
     "metadata": {},
     "output_type": "display_data"
    }
   ],
   "source": [
    "subs.plot()"
   ]
  },
  {
   "cell_type": "code",
   "execution_count": 52,
   "id": "1c191a2f",
   "metadata": {},
   "outputs": [
    {
     "data": {
      "text/plain": [
       "<Axes: >"
      ]
     },
     "execution_count": 52,
     "metadata": {},
     "output_type": "execute_result"
    },
    {
     "data": {
      "image/png": "[encoded data removed]",
      "text/plain": [
       "<Figure size 640x480 with 1 Axes>"
      ]
     },
     "metadata": {},
     "output_type": "display_data"
    }
   ],
   "source": [
    "kholi.value_counts().head(20).plot(kind=\"bar\")"
   ]
  },
  {
   "cell_type": "code",
   "execution_count": 54,
   "id": "518e867f",
   "metadata": {},
   "outputs": [
    {
     "data": {
      "text/plain": [
       "count             1500\n",
       "unique             566\n",
       "top       Akshay Kumar\n",
       "freq                48\n",
       "Name: lead, dtype: object"
      ]
     },
     "execution_count": 54,
     "metadata": {},
     "output_type": "execute_result"
    }
   ],
   "source": [
    "bwood.describe()"
   ]
  },
  {
   "cell_type": "code",
   "execution_count": null,
   "id": "d1fd2fa4",
   "metadata": {},
   "outputs": [],
   "source": []
  },
  {
   "cell_type": "code",
   "execution_count": null,
   "id": "f9c8f757",
   "metadata": {},
   "outputs": [],
   "source": []
  },
  {
   "cell_type": "code",
   "execution_count": null,
   "id": "0f181ac4",
   "metadata": {},
   "outputs": [],
   "source": []
  },
  {
   "cell_type": "code",
   "execution_count": null,
   "id": "4ce8c92b",
   "metadata": {},
   "outputs": [],
   "source": []
  },
  {
   "cell_type": "code",
   "execution_count": null,
   "id": "2aa7826d",
   "metadata": {},
   "outputs": [],
   "source": []
  },
  {
   "cell_type": "code",
   "execution_count": null,
   "id": "292a333b",
   "metadata": {},
   "outputs": [],
   "source": []
  }
 ],
 "metadata": {
  "kernelspec": {
   "display_name": "Python 3 (ipykernel)",
   "language": "python",
   "name": "python3"
  },
  "language_info": {
   "codemirror_mode": {
    "name": "ipython",
    "version": 3
   },
   "file_extension": ".py",
   "mimetype": "text/x-python",
   "name": "python",
   "nbconvert_exporter": "python",
   "pygments_lexer": "ipython3",
   "version": "3.11.4"
  }
 },
 "nbformat": 4,
 "nbformat_minor": 5
}
